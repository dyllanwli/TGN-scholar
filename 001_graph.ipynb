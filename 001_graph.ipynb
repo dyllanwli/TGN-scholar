{
 "cells": [
  {
   "cell_type": "code",
   "execution_count": 2,
   "metadata": {},
   "outputs": [],
   "source": [
    "import networkx as nx\n",
    "import os\n",
    "import numpy as np\n",
    "from sklearn import preprocessing"
   ]
  },
  {
   "cell_type": "code",
   "execution_count": 3,
   "metadata": {},
   "outputs": [],
   "source": [
    "import spacy\n",
    "nlp = spacy.load(\"en_core_web_sm\")"
   ]
  },
  {
   "cell_type": "code",
   "execution_count": 8,
   "metadata": {},
   "outputs": [],
   "source": [
    "# gpk_path = \"/h/diya.li/dev/dscompetition/data/gpk\"\n",
    "# for i in os.listdir(gpk_path):\n",
    "#     gpk = os.path.join(gpk_path, i)\n",
    "#     break\n",
    "# G = nx.read_gpickle(gpk)\n",
    "# A = nx.adjacency_matrix(G)\n",
    "# options = {\n",
    "#     'node_color': 'blue',\n",
    "#     'node_size': 1,\n",
    "#     'width': 1\n",
    "# }\n",
    "# nx.draw(G, with_labels=False, **options)"
   ]
  },
  {
   "cell_type": "code",
   "execution_count": 4,
   "metadata": {},
   "outputs": [],
   "source": [
    "import pandas as pd\n",
    "from tqdm import tqdm"
   ]
  },
  {
   "cell_type": "code",
   "execution_count": 5,
   "metadata": {},
   "outputs": [
    {
     "data": {
      "text/html": [
       "<div>\n",
       "<style scoped>\n",
       "    .dataframe tbody tr th:only-of-type {\n",
       "        vertical-align: middle;\n",
       "    }\n",
       "\n",
       "    .dataframe tbody tr th {\n",
       "        vertical-align: top;\n",
       "    }\n",
       "\n",
       "    .dataframe thead th {\n",
       "        text-align: right;\n",
       "    }\n",
       "</style>\n",
       "<table border=\"1\" class=\"dataframe\">\n",
       "  <thead>\n",
       "    <tr style=\"text-align: right;\">\n",
       "      <th></th>\n",
       "      <th>id</th>\n",
       "      <th>publish_year</th>\n",
       "      <th>author_list</th>\n",
       "      <th>keywords_from_api</th>\n",
       "      <th>abstract</th>\n",
       "    </tr>\n",
       "  </thead>\n",
       "  <tbody>\n",
       "    <tr>\n",
       "      <th>1</th>\n",
       "      <td>100233SE</td>\n",
       "      <td>2016</td>\n",
       "      <td>[601005549, 601004479, 902008143]</td>\n",
       "      <td>['Amino Acids', 'Health', 'Nutrition', 'Argina...</td>\n",
       "      <td>L-arginine (Arg) is utilized via multiple path...</td>\n",
       "    </tr>\n",
       "    <tr>\n",
       "      <th>2</th>\n",
       "      <td>100233SE</td>\n",
       "      <td>2016</td>\n",
       "      <td>[601005549, 601004479, 902008143]</td>\n",
       "      <td>['Amino Acids', 'Health', 'Nutrition', 'Argina...</td>\n",
       "      <td>L-arginine (Arg) is utilized via multiple path...</td>\n",
       "    </tr>\n",
       "    <tr>\n",
       "      <th>3</th>\n",
       "      <td>100234SE</td>\n",
       "      <td>2016</td>\n",
       "      <td>[601005549, 601004479, 902008143]</td>\n",
       "      <td>['Endothelial Cells', 'Ornithine', 'Putrescine...</td>\n",
       "      <td>Polyamines are essential for proliferation of ...</td>\n",
       "    </tr>\n",
       "    <tr>\n",
       "      <th>4</th>\n",
       "      <td>100234SE</td>\n",
       "      <td>2016</td>\n",
       "      <td>[601005549, 601004479, 902008143]</td>\n",
       "      <td>['Endothelial Cells', 'Ornithine', 'Putrescine...</td>\n",
       "      <td>Polyamines are essential for proliferation of ...</td>\n",
       "    </tr>\n",
       "    <tr>\n",
       "      <th>5</th>\n",
       "      <td>100235SE</td>\n",
       "      <td>2014</td>\n",
       "      <td>[607000169, 416005337, 919004726, 601004479]</td>\n",
       "      <td>['Complementary And Integrative Health', 'Nutr...</td>\n",
       "      <td>BACKGROUND: Extracts of Russian Tarragon (RT) ...</td>\n",
       "    </tr>\n",
       "  </tbody>\n",
       "</table>\n",
       "</div>"
      ],
      "text/plain": [
       "         id  publish_year                                   author_list  \\\n",
       "1  100233SE          2016             [601005549, 601004479, 902008143]   \n",
       "2  100233SE          2016             [601005549, 601004479, 902008143]   \n",
       "3  100234SE          2016             [601005549, 601004479, 902008143]   \n",
       "4  100234SE          2016             [601005549, 601004479, 902008143]   \n",
       "5  100235SE          2014  [607000169, 416005337, 919004726, 601004479]   \n",
       "\n",
       "                                   keywords_from_api  \\\n",
       "1  ['Amino Acids', 'Health', 'Nutrition', 'Argina...   \n",
       "2  ['Amino Acids', 'Health', 'Nutrition', 'Argina...   \n",
       "3  ['Endothelial Cells', 'Ornithine', 'Putrescine...   \n",
       "4  ['Endothelial Cells', 'Ornithine', 'Putrescine...   \n",
       "5  ['Complementary And Integrative Health', 'Nutr...   \n",
       "\n",
       "                                            abstract  \n",
       "1  L-arginine (Arg) is utilized via multiple path...  \n",
       "2  L-arginine (Arg) is utilized via multiple path...  \n",
       "3  Polyamines are essential for proliferation of ...  \n",
       "4  Polyamines are essential for proliferation of ...  \n",
       "5  BACKGROUND: Extracts of Russian Tarragon (RT) ...  "
      ]
     },
     "execution_count": 5,
     "metadata": {},
     "output_type": "execute_result"
    }
   ],
   "source": [
    "abstract_path = \"/h/diya.li/dev/dscompetition/data/abstract.csv\"\n",
    "ab_df = pd.read_csv(abstract_path, index_col=None)\n",
    "# ab_df.columns = ab_df.iloc[0]\n",
    "# ab_df.drop(ab_df.index[0])\n",
    "# ab_df.to_csv(abstract_path, header=None)\n",
    "df = ab_df[['id','publish_year','author_list', \"keywords_from_api\", \"abstract\"]]\n",
    "df = df.dropna(axis=0)\n",
    "df.head()"
   ]
  },
  {
   "cell_type": "code",
   "execution_count": 7,
   "metadata": {},
   "outputs": [
    {
     "name": "stderr",
     "output_type": "stream",
     "text": [
      " 83%|████████▎ | 11055/13375 [05:34<01:02, 37.20it/s]"
     ]
    }
   ],
   "source": [
    "def process_features(x):\n",
    "    a = str(x)\n",
    "    features = nlp(a).vector\n",
    "    if len(features) != 96:\n",
    "        # make sure keep the same dimension\n",
    "        raise BaseException(\"dimension error\")\n",
    "    else:\n",
    "        p.update(1)\n",
    "        return \",\".join([str(x) for x in features])\n",
    "with tqdm(total=df.shape[0]) as p:\n",
    "    df['comma_separated_list_of_features'] = df['abstract'].apply(lambda x: process_features(x))"
   ]
  },
  {
   "cell_type": "code",
   "execution_count": 30,
   "metadata": {},
   "outputs": [],
   "source": [
    "df['keyword'] = df['keywords_from_api'].apply(lambda x: x[1:-1].replace(\"'\", \"\").split(\",\"))\n",
    "df['author'] = df['author_list'].apply(lambda x: x[1:-1].split(\",\"))\n",
    "\n",
    "df = df.explode('keyword', ignore_index=True)\n",
    "df = df.explode('author', ignore_index=True)\n",
    "author_dict = {au:idx for idx, au in enumerate(df['author'].unique())}\n",
    "id_dict = {au:idx for idx, au in enumerate(df['id'].unique())}\n",
    "\n",
    "df = df[df['publish_year'] != 901006572]\n",
    "df = df[df['publish_year'] != 322009873]"
   ]
  },
  {
   "cell_type": "code",
   "execution_count": 31,
   "metadata": {},
   "outputs": [],
   "source": [
    "def process_user_id(x):\n",
    "    return author_dict[x]\n",
    "df['user_id'] = df['author'].apply(lambda x: process_user_id(x))\n",
    "\n",
    "def process_item_id(x):\n",
    "    return id_dict[x]\n",
    "df['item_id'] = df['id'].apply(lambda x: process_item_id(x))\n",
    "\n",
    "def process_timestamp(series):\n",
    "    l = series.apply(lambda x: int(x)).values.reshape(-1,1)\n",
    "    scaler = preprocessing.MinMaxScaler(feature_range=(0, 1))\n",
    "    return scaler.fit_transform(l).T[0]\n",
    "df['timestamp'] = process_timestamp(df['publish_year'])\n",
    "\n",
    "df = df[[\"user_id\", \"item_id\", \"state_label\", \"timestamp\", \"comma_separated_list_of_features\"]]"
   ]
  },
  {
   "cell_type": "code",
   "execution_count": 61,
   "metadata": {},
   "outputs": [
    {
     "data": {
      "text/html": [
       "<div>\n",
       "<style scoped>\n",
       "    .dataframe tbody tr th:only-of-type {\n",
       "        vertical-align: middle;\n",
       "    }\n",
       "\n",
       "    .dataframe tbody tr th {\n",
       "        vertical-align: top;\n",
       "    }\n",
       "\n",
       "    .dataframe thead th {\n",
       "        text-align: right;\n",
       "    }\n",
       "</style>\n",
       "<table border=\"1\" class=\"dataframe\">\n",
       "  <thead>\n",
       "    <tr style=\"text-align: right;\">\n",
       "      <th></th>\n",
       "      <th>user_id</th>\n",
       "      <th>state_label</th>\n",
       "      <th>publish_year</th>\n",
       "      <th>id</th>\n",
       "      <th>abstract</th>\n",
       "    </tr>\n",
       "  </thead>\n",
       "  <tbody>\n",
       "    <tr>\n",
       "      <th>1</th>\n",
       "      <td>[601005549,  601004479,  902008143]</td>\n",
       "      <td>['Amino Acids',  'Health',  'Nutrition',  'Arg...</td>\n",
       "      <td>2016</td>\n",
       "      <td>100233SE</td>\n",
       "      <td>L-arginine (Arg) is utilized via multiple path...</td>\n",
       "    </tr>\n",
       "    <tr>\n",
       "      <th>2</th>\n",
       "      <td>[601005549,  601004479,  902008143]</td>\n",
       "      <td>['Amino Acids',  'Health',  'Nutrition',  'Arg...</td>\n",
       "      <td>2016</td>\n",
       "      <td>100233SE</td>\n",
       "      <td>L-arginine (Arg) is utilized via multiple path...</td>\n",
       "    </tr>\n",
       "    <tr>\n",
       "      <th>3</th>\n",
       "      <td>[601005549,  601004479,  902008143]</td>\n",
       "      <td>['Endothelial Cells',  'Ornithine',  'Putresci...</td>\n",
       "      <td>2016</td>\n",
       "      <td>100234SE</td>\n",
       "      <td>Polyamines are essential for proliferation of ...</td>\n",
       "    </tr>\n",
       "    <tr>\n",
       "      <th>4</th>\n",
       "      <td>[601005549,  601004479,  902008143]</td>\n",
       "      <td>['Endothelial Cells',  'Ornithine',  'Putresci...</td>\n",
       "      <td>2016</td>\n",
       "      <td>100234SE</td>\n",
       "      <td>Polyamines are essential for proliferation of ...</td>\n",
       "    </tr>\n",
       "    <tr>\n",
       "      <th>5</th>\n",
       "      <td>[607000169,  416005337,  919004726,  601004479]</td>\n",
       "      <td>['Complementary And Integrative Health',  'Nut...</td>\n",
       "      <td>2014</td>\n",
       "      <td>100235SE</td>\n",
       "      <td>BACKGROUND: Extracts of Russian Tarragon (RT) ...</td>\n",
       "    </tr>\n",
       "  </tbody>\n",
       "</table>\n",
       "</div>"
      ],
      "text/plain": [
       "                                           user_id  \\\n",
       "1              [601005549,  601004479,  902008143]   \n",
       "2              [601005549,  601004479,  902008143]   \n",
       "3              [601005549,  601004479,  902008143]   \n",
       "4              [601005549,  601004479,  902008143]   \n",
       "5  [607000169,  416005337,  919004726,  601004479]   \n",
       "\n",
       "                                         state_label  publish_year        id  \\\n",
       "1  ['Amino Acids',  'Health',  'Nutrition',  'Arg...          2016  100233SE   \n",
       "2  ['Amino Acids',  'Health',  'Nutrition',  'Arg...          2016  100233SE   \n",
       "3  ['Endothelial Cells',  'Ornithine',  'Putresci...          2016  100234SE   \n",
       "4  ['Endothelial Cells',  'Ornithine',  'Putresci...          2016  100234SE   \n",
       "5  ['Complementary And Integrative Health',  'Nut...          2014  100235SE   \n",
       "\n",
       "                                            abstract  \n",
       "1  L-arginine (Arg) is utilized via multiple path...  \n",
       "2  L-arginine (Arg) is utilized via multiple path...  \n",
       "3  Polyamines are essential for proliferation of ...  \n",
       "4  Polyamines are essential for proliferation of ...  \n",
       "5  BACKGROUND: Extracts of Russian Tarragon (RT) ...  "
      ]
     },
     "execution_count": 61,
     "metadata": {},
     "output_type": "execute_result"
    }
   ],
   "source": [
    "df.head()"
   ]
  },
  {
   "cell_type": "code",
   "execution_count": 13,
   "metadata": {},
   "outputs": [
    {
     "data": {
      "text/html": [
       "<div>\n",
       "<style scoped>\n",
       "    .dataframe tbody tr th:only-of-type {\n",
       "        vertical-align: middle;\n",
       "    }\n",
       "\n",
       "    .dataframe tbody tr th {\n",
       "        vertical-align: top;\n",
       "    }\n",
       "\n",
       "    .dataframe thead th {\n",
       "        text-align: right;\n",
       "    }\n",
       "</style>\n",
       "<table border=\"1\" class=\"dataframe\">\n",
       "  <thead>\n",
       "    <tr style=\"text-align: right;\">\n",
       "      <th></th>\n",
       "      <th></th>\n",
       "      <th></th>\n",
       "      <th>user_id</th>\n",
       "      <th>item_id</th>\n",
       "      <th>timestamp</th>\n",
       "      <th>state_label</th>\n",
       "      <th>comma_separated_list_of_features</th>\n",
       "    </tr>\n",
       "  </thead>\n",
       "  <tbody>\n",
       "    <tr>\n",
       "      <th rowspan=\"5\" valign=\"top\">0</th>\n",
       "      <th>0</th>\n",
       "      <th>0.0</th>\n",
       "      <td>0</td>\n",
       "      <td>-0.319991</td>\n",
       "      <td>-0.435701</td>\n",
       "      <td>0.106784</td>\n",
       "      <td>-0.067309</td>\n",
       "    </tr>\n",
       "    <tr>\n",
       "      <th>1</th>\n",
       "      <th>6.0</th>\n",
       "      <td>0</td>\n",
       "      <td>-0.319991</td>\n",
       "      <td>-0.435701</td>\n",
       "      <td>0.106784</td>\n",
       "      <td>-0.067309</td>\n",
       "    </tr>\n",
       "    <tr>\n",
       "      <th>2</th>\n",
       "      <th>41.0</th>\n",
       "      <td>0</td>\n",
       "      <td>-0.319991</td>\n",
       "      <td>-0.435701</td>\n",
       "      <td>0.106784</td>\n",
       "      <td>-0.067309</td>\n",
       "    </tr>\n",
       "    <tr>\n",
       "      <th>1</th>\n",
       "      <th>49.0</th>\n",
       "      <td>0</td>\n",
       "      <td>-0.319991</td>\n",
       "      <td>-0.435701</td>\n",
       "      <td>0.106784</td>\n",
       "      <td>-0.067309</td>\n",
       "    </tr>\n",
       "    <tr>\n",
       "      <th>2</th>\n",
       "      <th>51.0</th>\n",
       "      <td>0</td>\n",
       "      <td>-0.319991</td>\n",
       "      <td>-0.435701</td>\n",
       "      <td>0.106784</td>\n",
       "      <td>-0.067309</td>\n",
       "    </tr>\n",
       "  </tbody>\n",
       "</table>\n",
       "</div>"
      ],
      "text/plain": [
       "          user_id   item_id  timestamp  state_label  \\\n",
       "0 0 0.0         0 -0.319991  -0.435701     0.106784   \n",
       "  1 6.0         0 -0.319991  -0.435701     0.106784   \n",
       "  2 41.0        0 -0.319991  -0.435701     0.106784   \n",
       "  1 49.0        0 -0.319991  -0.435701     0.106784   \n",
       "  2 51.0        0 -0.319991  -0.435701     0.106784   \n",
       "\n",
       "          comma_separated_list_of_features  \n",
       "0 0 0.0                          -0.067309  \n",
       "  1 6.0                          -0.067309  \n",
       "  2 41.0                         -0.067309  \n",
       "  1 49.0                         -0.067309  \n",
       "  2 51.0                         -0.067309  "
      ]
     },
     "execution_count": 13,
     "metadata": {},
     "output_type": "execute_result"
    }
   ],
   "source": [
    "template_path = \"/h/diya.li/dev/dscompetition/tgn/data/mooc.csv\"\n",
    "df = pd.read_csv(template_path, index_col=None)\n",
    "df.head()"
   ]
  },
  {
   "cell_type": "code",
   "execution_count": 14,
   "metadata": {},
   "outputs": [
    {
     "name": "stdout",
     "output_type": "stream",
     "text": [
      "2\n",
      "27\n",
      "87\n",
      "16\n",
      "164\n"
     ]
    }
   ],
   "source": [
    "print(len(df['user_id'].unique()))\n",
    "print(len(df['item_id'].unique()))\n",
    "print(len(df['state_label'].unique()))\n",
    "print(len(df['timestamp'].unique()))\n",
    "print(len(df['comma_separated_list_of_features'].unique()))"
   ]
  },
  {
   "cell_type": "code",
   "execution_count": null,
   "metadata": {},
   "outputs": [
    {
     "data": {
      "text/plain": [
       "user_id                               int64\n",
       "item_id                             float64\n",
       "timestamp                           float64\n",
       "state_label                         float64\n",
       "comma_separated_list_of_features    float64\n",
       "dtype: object"
      ]
     },
     "execution_count": 39,
     "metadata": {},
     "output_type": "execute_result"
    }
   ],
   "source": [
    "df.dtypes"
   ]
  },
  {
   "cell_type": "code",
   "execution_count": null,
   "metadata": {},
   "outputs": [],
   "source": []
  }
 ],
 "metadata": {
  "interpreter": {
   "hash": "370b18453dd911954a8fbfa7dd3788e51d32d9f18de7cedd108b03143a0133b3"
  },
  "kernelspec": {
   "display_name": "Python 3.8.3 ('rl')",
   "language": "python",
   "name": "python3"
  },
  "language_info": {
   "codemirror_mode": {
    "name": "ipython",
    "version": 3
   },
   "file_extension": ".py",
   "mimetype": "text/x-python",
   "name": "python",
   "nbconvert_exporter": "python",
   "pygments_lexer": "ipython3",
   "version": "3.8.3"
  },
  "orig_nbformat": 4
 },
 "nbformat": 4,
 "nbformat_minor": 2
}
