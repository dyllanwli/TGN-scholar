{
 "cells": [
  {
   "cell_type": "code",
   "execution_count": 25,
   "metadata": {},
   "outputs": [],
   "source": [
    "import networkx as nx\n",
    "import os\n",
    "import numpy as np\n",
    "from sklearn import preprocessing"
   ]
  },
  {
   "cell_type": "code",
   "execution_count": 2,
   "metadata": {},
   "outputs": [],
   "source": [
    "import spacy\n",
    "nlp = spacy.load(\"en_core_web_sm\")"
   ]
  },
  {
   "cell_type": "code",
   "execution_count": 3,
   "metadata": {},
   "outputs": [],
   "source": [
    "# gpk_path = \"/h/diya.li/dev/dscompetition/data/gpk\"\n",
    "# for i in os.listdir(gpk_path):\n",
    "#     gpk = os.path.join(gpk_path, i)\n",
    "#     break\n",
    "# G = nx.read_gpickle(gpk)\n",
    "# A = nx.adjacency_matrix(G)\n",
    "# options = {\n",
    "#     'node_color': 'blue',\n",
    "#     'node_size': 1,\n",
    "#     'width': 1\n",
    "# }\n",
    "# nx.draw(G, with_labels=False, **options)"
   ]
  },
  {
   "cell_type": "code",
   "execution_count": 1,
   "metadata": {},
   "outputs": [],
   "source": [
    "import pandas as pd\n",
    "from tqdm import tqdm"
   ]
  },
  {
   "cell_type": "code",
   "execution_count": 6,
   "metadata": {},
   "outputs": [
    {
     "data": {
      "text/html": [
       "<div>\n",
       "<style scoped>\n",
       "    .dataframe tbody tr th:only-of-type {\n",
       "        vertical-align: middle;\n",
       "    }\n",
       "\n",
       "    .dataframe tbody tr th {\n",
       "        vertical-align: top;\n",
       "    }\n",
       "\n",
       "    .dataframe thead th {\n",
       "        text-align: right;\n",
       "    }\n",
       "</style>\n",
       "<table border=\"1\" class=\"dataframe\">\n",
       "  <thead>\n",
       "    <tr style=\"text-align: right;\">\n",
       "      <th></th>\n",
       "      <th>id</th>\n",
       "      <th>publish_year</th>\n",
       "      <th>author_list</th>\n",
       "      <th>keywords_from_api</th>\n",
       "      <th>abstract</th>\n",
       "    </tr>\n",
       "  </thead>\n",
       "  <tbody>\n",
       "    <tr>\n",
       "      <th>1</th>\n",
       "      <td>100233SE</td>\n",
       "      <td>2016</td>\n",
       "      <td>[601005549, 601004479, 902008143]</td>\n",
       "      <td>['Amino Acids', 'Health', 'Nutrition', 'Argina...</td>\n",
       "      <td>L-arginine (Arg) is utilized via multiple path...</td>\n",
       "    </tr>\n",
       "    <tr>\n",
       "      <th>2</th>\n",
       "      <td>100233SE</td>\n",
       "      <td>2016</td>\n",
       "      <td>[601005549, 601004479, 902008143]</td>\n",
       "      <td>['Amino Acids', 'Health', 'Nutrition', 'Argina...</td>\n",
       "      <td>L-arginine (Arg) is utilized via multiple path...</td>\n",
       "    </tr>\n",
       "    <tr>\n",
       "      <th>3</th>\n",
       "      <td>100234SE</td>\n",
       "      <td>2016</td>\n",
       "      <td>[601005549, 601004479, 902008143]</td>\n",
       "      <td>['Endothelial Cells', 'Ornithine', 'Putrescine...</td>\n",
       "      <td>Polyamines are essential for proliferation of ...</td>\n",
       "    </tr>\n",
       "    <tr>\n",
       "      <th>4</th>\n",
       "      <td>100234SE</td>\n",
       "      <td>2016</td>\n",
       "      <td>[601005549, 601004479, 902008143]</td>\n",
       "      <td>['Endothelial Cells', 'Ornithine', 'Putrescine...</td>\n",
       "      <td>Polyamines are essential for proliferation of ...</td>\n",
       "    </tr>\n",
       "    <tr>\n",
       "      <th>5</th>\n",
       "      <td>100235SE</td>\n",
       "      <td>2014</td>\n",
       "      <td>[607000169, 416005337, 919004726, 601004479]</td>\n",
       "      <td>['Complementary And Integrative Health', 'Nutr...</td>\n",
       "      <td>BACKGROUND: Extracts of Russian Tarragon (RT) ...</td>\n",
       "    </tr>\n",
       "  </tbody>\n",
       "</table>\n",
       "</div>"
      ],
      "text/plain": [
       "         id  publish_year                                   author_list  \\\n",
       "1  100233SE          2016             [601005549, 601004479, 902008143]   \n",
       "2  100233SE          2016             [601005549, 601004479, 902008143]   \n",
       "3  100234SE          2016             [601005549, 601004479, 902008143]   \n",
       "4  100234SE          2016             [601005549, 601004479, 902008143]   \n",
       "5  100235SE          2014  [607000169, 416005337, 919004726, 601004479]   \n",
       "\n",
       "                                   keywords_from_api  \\\n",
       "1  ['Amino Acids', 'Health', 'Nutrition', 'Argina...   \n",
       "2  ['Amino Acids', 'Health', 'Nutrition', 'Argina...   \n",
       "3  ['Endothelial Cells', 'Ornithine', 'Putrescine...   \n",
       "4  ['Endothelial Cells', 'Ornithine', 'Putrescine...   \n",
       "5  ['Complementary And Integrative Health', 'Nutr...   \n",
       "\n",
       "                                            abstract  \n",
       "1  L-arginine (Arg) is utilized via multiple path...  \n",
       "2  L-arginine (Arg) is utilized via multiple path...  \n",
       "3  Polyamines are essential for proliferation of ...  \n",
       "4  Polyamines are essential for proliferation of ...  \n",
       "5  BACKGROUND: Extracts of Russian Tarragon (RT) ...  "
      ]
     },
     "execution_count": 6,
     "metadata": {},
     "output_type": "execute_result"
    }
   ],
   "source": [
    "abstract_path = \"/h/diya.li/dev/dscompetition/data/abstract.csv\"\n",
    "ab_df = pd.read_csv(abstract_path, index_col=None)\n",
    "# ab_df.columns = ab_df.iloc[0]\n",
    "# ab_df.drop(ab_df.index[0])\n",
    "# ab_df.to_csv(abstract_path, header=None)\n",
    "df = ab_df[['id','publish_year','author_list', \"keywords_from_api\", \"abstract\"]]\n",
    "df = df.dropna(axis=0)\n",
    "df.head()"
   ]
  },
  {
   "cell_type": "code",
   "execution_count": 7,
   "metadata": {},
   "outputs": [
    {
     "name": "stderr",
     "output_type": "stream",
     "text": [
      "100%|██████████| 13375/13375 [06:46<00:00, 32.92it/s]\n"
     ]
    }
   ],
   "source": [
    "def process_features(x):\n",
    "    a = str(x)\n",
    "    features = nlp(a).vector\n",
    "    if len(features) != 96:\n",
    "        # make sure keep the same dimension\n",
    "        raise BaseException(\"dimension error\")\n",
    "    else:\n",
    "        p.update(1)\n",
    "        return \",\".join([str(x) for x in features])\n",
    "with tqdm(total=df.shape[0]) as p:\n",
    "    df['comma_separated_list_of_features'] = df['abstract'].apply(lambda x: process_features(x))"
   ]
  },
  {
   "cell_type": "code",
   "execution_count": 8,
   "metadata": {},
   "outputs": [],
   "source": [
    "df['keyword'] = df['keywords_from_api'].apply(lambda x: x[1:-1].replace(\"'\", \"\").split(\",\"))\n",
    "df['author'] = df['author_list'].apply(lambda x: x[1:-1].split(\",\"))\n",
    "\n",
    "df = df.explode('keyword', ignore_index=True)\n",
    "df = df.explode('author', ignore_index=True)\n",
    "author_dict = {au:idx for idx, au in enumerate(df['author'].unique())}\n",
    "keyword_dict = {au:idx for idx, au in enumerate(df['keyword'].unique())}\n",
    "id_dict = {au:idx for idx, au in enumerate(df['id'].unique())}\n",
    "\n",
    "df = df[df['publish_year'] != 901006572]\n",
    "df = df[df['publish_year'] != 322009873]"
   ]
  },
  {
   "cell_type": "code",
   "execution_count": 9,
   "metadata": {},
   "outputs": [],
   "source": [
    "def process_user_id(x):\n",
    "    return author_dict[x]\n",
    "df['user_id'] = df['author'].apply(lambda x: process_user_id(x))\n",
    "\n",
    "def process_item_id(x):\n",
    "    return id_dict[x]\n",
    "df['item_id'] = df['id'].apply(lambda x: process_item_id(x))\n",
    "\n",
    "def process_state_label(x):\n",
    "    # return keyword_dict[x]\n",
    "    return 0 # State label should be 1 whenever the user state changes, 0 otherwise. If there are no state labels, use 0 for all interactions.\n",
    "df['state_label'] = df['id'].apply(lambda x: process_state_label(x))\n",
    "\n",
    "def process_timestamp(series):\n",
    "    l = series.apply(lambda x: int(x)).values.reshape(-1,1)\n",
    "    scaler = preprocessing.MinMaxScaler(feature_range=(0, 1))\n",
    "    return scaler.fit_transform(l).T[0]\n",
    "df['timestamp'] = process_timestamp(df['publish_year'])\n",
    "\n",
    "df = df[[\"user_id\", \"item_id\", \"state_label\", \"timestamp\", \"comma_separated_list_of_features\"]]"
   ]
  },
  {
   "cell_type": "code",
   "execution_count": 12,
   "metadata": {},
   "outputs": [],
   "source": [
    "df.to_csv(\"scholar.csv\", index=False)"
   ]
  },
  {
   "cell_type": "code",
   "execution_count": 20,
   "metadata": {},
   "outputs": [],
   "source": [
    "ls = []\n",
    "with open(\"scholar.csv\", \"r\") as f:\n",
    "    for idx, l in enumerate(f.readlines()):\n",
    "        ls.append(l.replace(\"\\\"\", \"\"))\n",
    "with open(\"scholar_.csv\", \"w\") as ff:\n",
    "    ff.writelines(ls)"
   ]
  },
  {
   "cell_type": "code",
   "execution_count": 2,
   "metadata": {},
   "outputs": [
    {
     "data": {
      "text/html": [
       "<div>\n",
       "<style scoped>\n",
       "    .dataframe tbody tr th:only-of-type {\n",
       "        vertical-align: middle;\n",
       "    }\n",
       "\n",
       "    .dataframe tbody tr th {\n",
       "        vertical-align: top;\n",
       "    }\n",
       "\n",
       "    .dataframe thead th {\n",
       "        text-align: right;\n",
       "    }\n",
       "</style>\n",
       "<table border=\"1\" class=\"dataframe\">\n",
       "  <thead>\n",
       "    <tr style=\"text-align: right;\">\n",
       "      <th></th>\n",
       "      <th>user_id</th>\n",
       "      <th>item_id</th>\n",
       "      <th>state_label</th>\n",
       "      <th>timestamp</th>\n",
       "      <th>comma_separated_list_of_features</th>\n",
       "    </tr>\n",
       "  </thead>\n",
       "  <tbody>\n",
       "    <tr>\n",
       "      <th>0</th>\n",
       "      <td>0</td>\n",
       "      <td>0</td>\n",
       "      <td>0</td>\n",
       "      <td>0.877551</td>\n",
       "      <td>0.100074254,0.1365942,-0.038670383,-0.00133076...</td>\n",
       "    </tr>\n",
       "    <tr>\n",
       "      <th>1</th>\n",
       "      <td>1</td>\n",
       "      <td>0</td>\n",
       "      <td>0</td>\n",
       "      <td>0.877551</td>\n",
       "      <td>0.100074254,0.1365942,-0.038670383,-0.00133076...</td>\n",
       "    </tr>\n",
       "    <tr>\n",
       "      <th>2</th>\n",
       "      <td>2</td>\n",
       "      <td>0</td>\n",
       "      <td>0</td>\n",
       "      <td>0.877551</td>\n",
       "      <td>0.100074254,0.1365942,-0.038670383,-0.00133076...</td>\n",
       "    </tr>\n",
       "    <tr>\n",
       "      <th>3</th>\n",
       "      <td>0</td>\n",
       "      <td>0</td>\n",
       "      <td>0</td>\n",
       "      <td>0.877551</td>\n",
       "      <td>0.100074254,0.1365942,-0.038670383,-0.00133076...</td>\n",
       "    </tr>\n",
       "    <tr>\n",
       "      <th>4</th>\n",
       "      <td>1</td>\n",
       "      <td>0</td>\n",
       "      <td>0</td>\n",
       "      <td>0.877551</td>\n",
       "      <td>0.100074254,0.1365942,-0.038670383,-0.00133076...</td>\n",
       "    </tr>\n",
       "  </tbody>\n",
       "</table>\n",
       "</div>"
      ],
      "text/plain": [
       "   user_id  item_id  state_label  timestamp  \\\n",
       "0        0        0            0   0.877551   \n",
       "1        1        0            0   0.877551   \n",
       "2        2        0            0   0.877551   \n",
       "3        0        0            0   0.877551   \n",
       "4        1        0            0   0.877551   \n",
       "\n",
       "                    comma_separated_list_of_features  \n",
       "0  0.100074254,0.1365942,-0.038670383,-0.00133076...  \n",
       "1  0.100074254,0.1365942,-0.038670383,-0.00133076...  \n",
       "2  0.100074254,0.1365942,-0.038670383,-0.00133076...  \n",
       "3  0.100074254,0.1365942,-0.038670383,-0.00133076...  \n",
       "4  0.100074254,0.1365942,-0.038670383,-0.00133076...  "
      ]
     },
     "execution_count": 2,
     "metadata": {},
     "output_type": "execute_result"
    }
   ],
   "source": [
    "template_path = \"/h/diya.li/dev/dscompetition/scholar.csv\"\n",
    "df = pd.read_csv(template_path, index_col=None)\n",
    "df.head()"
   ]
  },
  {
   "cell_type": "code",
   "execution_count": 40,
   "metadata": {},
   "outputs": [],
   "source": [
    "df = df.drop_duplicates()"
   ]
  },
  {
   "cell_type": "code",
   "execution_count": 46,
   "metadata": {},
   "outputs": [],
   "source": [
    "df['user_id'] = df['user_id'] + 1\n",
    "df['item_id'] = df['item_id'] + 1"
   ]
  },
  {
   "cell_type": "code",
   "execution_count": 28,
   "metadata": {},
   "outputs": [
    {
     "name": "stdout",
     "output_type": "stream",
     "text": [
      "11503\n",
      "11509\n",
      "11507\n",
      "11510\n",
      "11507\n"
     ]
    }
   ],
   "source": [
    "print(len(df['user_id'].unique()))\n",
    "print(len(df['item_id'].unique()))\n",
    "print(len(df['state_label'].unique()))\n",
    "print(len(df['timestamp'].unique()))\n",
    "print(len(df['comma_separated_list_of_features'].unique()))"
   ]
  },
  {
   "cell_type": "code",
   "execution_count": 29,
   "metadata": {},
   "outputs": [
    {
     "data": {
      "text/plain": [
       "user_id                             float64\n",
       "item_id                             float64\n",
       "state_label                         float64\n",
       "timestamp                           float64\n",
       "comma_separated_list_of_features    float64\n",
       "dtype: object"
      ]
     },
     "execution_count": 29,
     "metadata": {},
     "output_type": "execute_result"
    }
   ],
   "source": [
    "df.dtypes"
   ]
  },
  {
   "cell_type": "code",
   "execution_count": null,
   "metadata": {},
   "outputs": [],
   "source": []
  }
 ],
 "metadata": {
  "interpreter": {
   "hash": "370b18453dd911954a8fbfa7dd3788e51d32d9f18de7cedd108b03143a0133b3"
  },
  "kernelspec": {
   "display_name": "Python 3.8.3 ('rl')",
   "language": "python",
   "name": "python3"
  },
  "language_info": {
   "codemirror_mode": {
    "name": "ipython",
    "version": 3
   },
   "file_extension": ".py",
   "mimetype": "text/x-python",
   "name": "python",
   "nbconvert_exporter": "python",
   "pygments_lexer": "ipython3",
   "version": "3.8.3"
  },
  "orig_nbformat": 4
 },
 "nbformat": 4,
 "nbformat_minor": 2
}
