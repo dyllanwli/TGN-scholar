{
 "cells": [
  {
   "cell_type": "code",
   "execution_count": 1,
   "metadata": {},
   "outputs": [],
   "source": [
    "import networkx as nx\n",
    "import torch"
   ]
  },
  {
   "cell_type": "code",
   "execution_count": 5,
   "metadata": {},
   "outputs": [],
   "source": [
    "model_checkpoint = \"/h/diya.li/dev/dscompetition/tgn/checkpoint/model300.pt\"\n",
    "model = torch.load(model_checkpoint, map_location=torch.device('cuda'))"
   ]
  },
  {
   "cell_type": "code",
   "execution_count": 15,
   "metadata": {},
   "outputs": [
    {
     "data": {
      "text/plain": [
       "odict_keys(['temporal_encoder.w.weight', 'temporal_encoder.w.bias', 'memory.last_update_t', 'memory.memory', 'memory.last_update_time', 'memory_ops.memory.last_update_t', 'memory_ops.memory.memory', 'memory_ops.memory.last_update_time', 'memory_ops.temporal_encoder.w.weight', 'memory_ops.temporal_encoder.w.bias', 'memory_ops.updater.weight_ih', 'memory_ops.updater.weight_hh', 'memory_ops.updater.bias_ih', 'memory_ops.updater.bias_hh', 'embedding_attn.temporal_encoder.w.weight', 'embedding_attn.temporal_encoder.w.bias', 'embedding_attn.preprocessor.temporal_encoder.w.weight', 'embedding_attn.preprocessor.temporal_encoder.w.bias', 'embedding_attn.layer_list.0.attn_l', 'embedding_attn.layer_list.0.attn_r', 'embedding_attn.layer_list.0.attn_e', 'embedding_attn.layer_list.0.fc_node.weight', 'embedding_attn.layer_list.0.fc_node.bias', 'embedding_attn.layer_list.0.fc_edge.weight', 'embedding_attn.layer_list.0.fc_edge.bias', 'msg_linkpredictor.src_fc.weight', 'msg_linkpredictor.src_fc.bias', 'msg_linkpredictor.dst_fc.weight', 'msg_linkpredictor.dst_fc.bias', 'msg_linkpredictor.out_fc.weight', 'msg_linkpredictor.out_fc.bias'])"
      ]
     },
     "execution_count": 15,
     "metadata": {},
     "output_type": "execute_result"
    }
   ],
   "source": [
    "model['model_state_dict'].keys()"
   ]
  },
  {
   "cell_type": "code",
   "execution_count": null,
   "metadata": {},
   "outputs": [],
   "source": []
  }
 ],
 "metadata": {
  "interpreter": {
   "hash": "315c348eacccf36161be529a39e2f34b8b34b6200803e9ebe5aa9d27c147f49f"
  },
  "kernelspec": {
   "display_name": "Python 3.8.3 ('dgl')",
   "language": "python",
   "name": "python3"
  },
  "language_info": {
   "codemirror_mode": {
    "name": "ipython",
    "version": 3
   },
   "file_extension": ".py",
   "mimetype": "text/x-python",
   "name": "python",
   "nbconvert_exporter": "python",
   "pygments_lexer": "ipython3",
   "version": "3.8.3"
  },
  "orig_nbformat": 4
 },
 "nbformat": 4,
 "nbformat_minor": 2
}
